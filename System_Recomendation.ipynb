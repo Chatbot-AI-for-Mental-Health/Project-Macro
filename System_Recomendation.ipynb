{
  "nbformat": 4,
  "nbformat_minor": 0,
  "metadata": {
    "colab": {
      "provenance": [],
      "gpuType": "T4"
    },
    "kernelspec": {
      "name": "python3",
      "display_name": "Python 3"
    },
    "language_info": {
      "name": "python"
    },
    "accelerator": "GPU"
  },
  "cells": [
    {
      "cell_type": "code",
      "execution_count": null,
      "metadata": {
        "id": "GWTP8fMKZxNe"
      },
      "outputs": [],
      "source": [
        "import pandas as pd"
      ]
    },
    {
      "cell_type": "code",
      "source": [
        "# Langkah 1: Memuat data dari file CSV\n",
        "data = pd.read_csv('datasetDoctor.csv')"
      ],
      "metadata": {
        "id": "ETC_FV58aaDb"
      },
      "execution_count": null,
      "outputs": []
    },
    {
      "cell_type": "code",
      "source": [
        "# Langkah 2: Pra-pemrosesan data\n",
        "data['City'] = data['City'].str.lower()  # Mengubah semua kota menjadi lowercase\n",
        "\n",
        "# Hapus kolom yang tidak diperlukan\n",
        "kolom_yang_dihapus = ['Specialization', 'Doctor Qualification', 'Total_Reviews', 'Patient Satisfaction Rate(%age)',\n",
        "                      'Avg Time to Patients(mins)', 'Wait Time(mins)', 'Doctors Link']\n",
        "data = data.drop(columns=kolom_yang_dihapus)\n",
        "\n",
        "# Ganti nilai 0 menjadi 1 pada kolom \"Experience(Years)\"\n",
        "data['Experience(Years)'] = data['Experience(Years)'].replace(0, 1)\n",
        "\n",
        "# Ganti nilai 0 menjadi 100 pada kolom \"Fee(PKR)\"\n",
        "data['Fee(PKR)'] = data['Fee(PKR)'].replace(0, 100)"
      ],
      "metadata": {
        "id": "jFNQVEQfacdL"
      },
      "execution_count": null,
      "outputs": []
    },
    {
      "cell_type": "code",
      "source": [
        "# Langkah 3: Fungsi untuk rekomendasi dokter berdasarkan kota\n",
        "def recommend_doctors(city):\n",
        "    city = city.lower()\n",
        "    relevant_data = data[data['City'] == city]\n",
        "    if not relevant_data.empty:\n",
        "        doctor_info = relevant_data[['Doctor Name', 'Hospital Address', 'Fee(PKR)', 'Experience(Years)']]\n",
        "        return doctor_info.values.tolist()\n",
        "    else:\n",
        "        return \"Tidak tersedia dokter di kota yang dipilih.\""
      ],
      "metadata": {
        "id": "D_RnaHXHafQQ"
      },
      "execution_count": null,
      "outputs": []
    },
    {
      "cell_type": "code",
      "source": [
        "# Menampilkan 5 data pertama\n",
        "print(\"5 Data Pertama:\")\n",
        "print(data.head())\n",
        "print(\"\\n\")"
      ],
      "metadata": {
        "id": "I3Tq-FT7YieI",
        "outputId": "80c91b20-240a-4050-a7f6-381e70450115",
        "colab": {
          "base_uri": "https://localhost:8080/"
        }
      },
      "execution_count": null,
      "outputs": [
        {
          "output_type": "stream",
          "name": "stdout",
          "text": [
            "5 Data Pertama:\n",
            "                        Doctor Name    City  Experience(Years)  \\\n",
            "0         Prof. Dr. Syed Shamsuddin  quetta               30.0   \n",
            "1                    Dr. Jaffar Ali  quetta               32.0   \n",
            "2  Asst. Prof. Dr. Syed Bilal Shams  quetta               15.0   \n",
            "3     Asst. Prof. Dr. Surjeet Kumar  quetta               12.0   \n",
            "4                Dr. Palwasha Jalil  quetta                8.0   \n",
            "\n",
            "                                    Hospital Address  Fee(PKR)  \n",
            "0  National Hospital, Near Quetta Laboratory Prin...    5000.0  \n",
            "1               Quetta Hospital, Quetta City, Quetta    3000.0  \n",
            "2  Skin Center Dermatologist Dr. Syed Bilal Ahmed...    5000.0  \n",
            "3              Doctors Hospital, Quetta City, Quetta    2000.0  \n",
            "4  Aria Institute Of Medical And Health Sciences,...    1500.0  \n",
            "\n",
            "\n"
          ]
        }
      ]
    },
    {
      "cell_type": "code",
      "source": [
        "# Langkah 5: Menjalankan sistem rekomendasi\n",
        "user_input = input(\"Masukkan nama kota: \")\n",
        "recommended_doctors = recommend_doctors(user_input)\n",
        "\n",
        "if isinstance(recommended_doctors, list):\n",
        "    print(\"Rekomendasi dokter di\", user_input.capitalize(), \":\")\n",
        "    for doctor in recommended_doctors:\n",
        "        print(\"- Nama Dokter:\", doctor[0])\n",
        "        print(\"  Alamat Rumah Sakit:\", doctor[1])\n",
        "        print(\"  Biaya Pengobatan:\", int(doctor[2]), \"Rupiah\")\n",
        "        print(\"  Pengalaman:\", int(doctor[3]), \"Tahun\")\n",
        "else:\n",
        "    print(recommended_doctors)"
      ],
      "metadata": {
        "id": "6rOK4SeDafT9",
        "colab": {
          "base_uri": "https://localhost:8080/"
        },
        "outputId": "05f269c5-7f6f-4788-9817-82c50c1a7fca"
      },
      "execution_count": null,
      "outputs": [
        {
          "output_type": "stream",
          "name": "stdout",
          "text": [
            "Masukkan nama kota: swabi\n",
            "Rekomendasi dokter di Swabi :\n",
            "- Nama Dokter: Dr. Mohammad Usman Khan\n",
            "  Alamat Rumah Sakit: Dua Medical Centre, Keley Mardan, Swabi\n",
            "  Biaya Pengobatan: 500 Rupiah\n",
            "  Pengalaman: 14 Tahun\n",
            "- Nama Dokter: Dr. Sara Gul\n",
            "  Alamat Rumah Sakit: Al jannat Hospital &amp; Infertility Center Swabi, Kala Pul, Swabi\n",
            "  Biaya Pengobatan: 1500 Rupiah\n",
            "  Pengalaman: 13 Tahun\n",
            "- Nama Dokter: Dr. Alia Zeb\n",
            "  Alamat Rumah Sakit: Care and Cure medical complex, Islamabad, Islamabad\n",
            "  Biaya Pengobatan: 1200 Rupiah\n",
            "  Pengalaman: 15 Tahun\n",
            "- Nama Dokter: Dr. Asma Gul\n",
            "  Alamat Rumah Sakit: Jamal Medical Center, Gharibabad Maniri, Swabi\n",
            "  Biaya Pengobatan: 300 Rupiah\n",
            "  Pengalaman: 5 Tahun\n",
            "- Nama Dokter: Dr. Saima Iram\n",
            "  Alamat Rumah Sakit: Jamal Medical Center, Gharibabad Maniri, Swabi\n",
            "  Biaya Pengobatan: 300 Rupiah\n",
            "  Pengalaman: 9 Tahun\n",
            "- Nama Dokter: Dr. Sajjida Usman\n",
            "  Alamat Rumah Sakit: New Life Hospital, Banars Colony, Swabi\n",
            "  Biaya Pengobatan: 300 Rupiah\n",
            "  Pengalaman: 50 Tahun\n",
            "- Nama Dokter: Dr. Nasreen Akhtar\n",
            "  Alamat Rumah Sakit: Doctors Medical Center, Banars Colony, Swabi\n",
            "  Biaya Pengobatan: 300 Rupiah\n",
            "  Pengalaman: 40 Tahun\n",
            "- Nama Dokter: Dr. Rukhsana\n",
            "  Alamat Rumah Sakit: Sardar Memorial Hospital, Gharibabad Maniri, Swabi\n",
            "  Biaya Pengobatan: 300 Rupiah\n",
            "  Pengalaman: 10 Tahun\n",
            "- Nama Dokter: Dr. Iqbal Begum\n",
            "  Alamat Rumah Sakit: Jamal Medical Center, Gharibabad Maniri, Swabi\n",
            "  Biaya Pengobatan: 300 Rupiah\n",
            "  Pengalaman: 40 Tahun\n",
            "- Nama Dokter: Dr. Zil E Huma\n",
            "  Alamat Rumah Sakit: Dua Medical Centre, Keley Mardan, Swabi\n",
            "  Biaya Pengobatan: 500 Rupiah\n",
            "  Pengalaman: 11 Tahun\n",
            "- Nama Dokter: Dr. Muhammad Zubair\n",
            "  Alamat Rumah Sakit: Dawood Medical Center, Main GIKI Road, Topi\n",
            "  Biaya Pengobatan: 2000 Rupiah\n",
            "  Pengalaman: 5 Tahun\n",
            "- Nama Dokter: Dr. Iltaf\n",
            "  Alamat Rumah Sakit: Jamal Medical Center, Gharibabad Maniri, Swabi\n",
            "  Biaya Pengobatan: 400 Rupiah\n",
            "  Pengalaman: 10 Tahun\n",
            "- Nama Dokter: Dr. Fazal Mannan\n",
            "  Alamat Rumah Sakit: Jamal Medical Center, Gharibabad Maniri, Swabi\n",
            "  Biaya Pengobatan: 500 Rupiah\n",
            "  Pengalaman: 20 Tahun\n",
            "- Nama Dokter: Dr. Lal Zada\n",
            "  Alamat Rumah Sakit: Sardar Memorial Hospital, Gharibabad Maniri, Swabi\n",
            "  Biaya Pengobatan: 500 Rupiah\n",
            "  Pengalaman: 13 Tahun\n",
            "- Nama Dokter: Dr. Muhammad Arsalan Mabood\n",
            "  Alamat Rumah Sakit: Idrees Plaza, Khyber Pakhtunkhwa, Swabi\n",
            "  Biaya Pengobatan: 1500 Rupiah\n",
            "  Pengalaman: 10 Tahun\n",
            "- Nama Dokter: Assoc. Prof. Dr. Sajjad Ur Rehman\n",
            "  Alamat Rumah Sakit: Jamal Medical Center, Gharibabad Maniri, Swabi\n",
            "  Biaya Pengobatan: 1000 Rupiah\n",
            "  Pengalaman: 12 Tahun\n",
            "- Nama Dokter: Dr. Inayat Ullah\n",
            "  Alamat Rumah Sakit: Bacha Khan Medical Complex, Khyber Pakhtunkhwa, Swabi\n",
            "  Biaya Pengobatan: 500 Rupiah\n",
            "  Pengalaman: 10 Tahun\n",
            "- Nama Dokter: Dr. Bibi Asma\n",
            "  Alamat Rumah Sakit: No Address Available\n",
            "  Biaya Pengobatan: 1000 Rupiah\n",
            "  Pengalaman: 12 Tahun\n",
            "- Nama Dokter: Dr. Khushdil Khan\n",
            "  Alamat Rumah Sakit: Jamal Medical Center, Gharibabad Maniri, Swabi\n",
            "  Biaya Pengobatan: 400 Rupiah\n",
            "  Pengalaman: 9 Tahun\n",
            "- Nama Dokter: Dr. Wali Mohammad\n",
            "  Alamat Rumah Sakit: Jamal Medical Center, Gharibabad Maniri, Swabi\n",
            "  Biaya Pengobatan: 400 Rupiah\n",
            "  Pengalaman: 10 Tahun\n",
            "- Nama Dokter: Dr. Syed Atiq Ur Rehman\n",
            "  Alamat Rumah Sakit: Dr Atiq Children Clinic tordher, Tordher, Swabi\n",
            "  Biaya Pengobatan: 400 Rupiah\n",
            "  Pengalaman: 16 Tahun\n",
            "- Nama Dokter: Dr. Roohullah\n",
            "  Alamat Rumah Sakit: Sardar Memorial Hospital, Gharibabad Maniri, Swabi\n",
            "  Biaya Pengobatan: 500 Rupiah\n",
            "  Pengalaman: 15 Tahun\n",
            "- Nama Dokter: Dr. Faiza Rehman\n",
            "  Alamat Rumah Sakit: ISRAR Medical Center Yarhussain, KPK, Swabi\n",
            "  Biaya Pengobatan: 500 Rupiah\n",
            "  Pengalaman: 7 Tahun\n",
            "- Nama Dokter: Dr. Shahid Akbar\n",
            "  Alamat Rumah Sakit: Dua Medical Centre, Keley Mardan, Swabi\n",
            "  Biaya Pengobatan: 200 Rupiah\n",
            "  Pengalaman: 4 Tahun\n",
            "- Nama Dokter: Dr. Wasim Akram\n",
            "  Alamat Rumah Sakit: Ibrahimi Hospital, Khyber Pakhtunkhwa, Swat\n",
            "  Biaya Pengobatan: 800 Rupiah\n",
            "  Pengalaman: 8 Tahun\n",
            "- Nama Dokter: Dr. Ubaid Ullah Asad\n",
            "  Alamat Rumah Sakit: No Address Available\n",
            "  Biaya Pengobatan: 800 Rupiah\n",
            "  Pengalaman: 9 Tahun\n",
            "- Nama Dokter: Dr. Salim Riaz\n",
            "  Alamat Rumah Sakit: Mahaban Medical And research Hospital, Swabi, Swabi\n",
            "  Biaya Pengobatan: 300 Rupiah\n",
            "  Pengalaman: 3 Tahun\n",
            "- Nama Dokter: Dr. Akhtar Ali Shah\n",
            "  Alamat Rumah Sakit: Jamal Medical Center, Gharibabad Maniri, Swabi\n",
            "  Biaya Pengobatan: 500 Rupiah\n",
            "  Pengalaman: 40 Tahun\n",
            "- Nama Dokter: Dr. Mohammad Saqib\n",
            "  Alamat Rumah Sakit: New Life Hospital, Banars Colony, Swabi\n",
            "  Biaya Pengobatan: 400 Rupiah\n",
            "  Pengalaman: 5 Tahun\n",
            "- Nama Dokter: Dr. Arshad Irshad\n",
            "  Alamat Rumah Sakit: Doctors Medical Center, Banars Colony, Swabi\n",
            "  Biaya Pengobatan: 500 Rupiah\n",
            "  Pengalaman: 25 Tahun\n",
            "- Nama Dokter: Dr. Bakhzamin Khan\n",
            "  Alamat Rumah Sakit: Sardar Memorial Hospital, Gharibabad Maniri, Swabi\n",
            "  Biaya Pengobatan: 300 Rupiah\n",
            "  Pengalaman: 17 Tahun\n",
            "- Nama Dokter: Dr. Syed Muneeb\n",
            "  Alamat Rumah Sakit: Sardar Memorial Hospital, Gharibabad Maniri, Swabi\n",
            "  Biaya Pengobatan: 600 Rupiah\n",
            "  Pengalaman: 30 Tahun\n",
            "- Nama Dokter: Dr. Zahid Ali Shah\n",
            "  Alamat Rumah Sakit: Dua Medical Centre, Keley Mardan, Swabi\n",
            "  Biaya Pengobatan: 500 Rupiah\n",
            "  Pengalaman: 11 Tahun\n",
            "- Nama Dokter: Dr. Mohammad Adeel\n",
            "  Alamat Rumah Sakit: Jamal Medical Center, Gharibabad Maniri, Swabi\n",
            "  Biaya Pengobatan: 500 Rupiah\n",
            "  Pengalaman: 10 Tahun\n",
            "- Nama Dokter: Dr. Muhammad Abbas Khan\n",
            "  Alamat Rumah Sakit: Dr Atta Khan Hospital and Pharmacy, Airport Housing Society, Rawalpindi\n",
            "  Biaya Pengobatan: 3000 Rupiah\n",
            "  Pengalaman: 8 Tahun\n",
            "- Nama Dokter: Asst. Prof. Dr. Amer Zaman\n",
            "  Alamat Rumah Sakit: No Address Available\n",
            "  Biaya Pengobatan: 1000 Rupiah\n",
            "  Pengalaman: 2 Tahun\n"
          ]
        }
      ]
    }
  ]
}